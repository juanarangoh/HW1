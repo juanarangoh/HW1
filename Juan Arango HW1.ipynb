{
 "cells": [
  {
   "cell_type": "markdown",
   "metadata": {},
   "source": [
    "# Homework 1\n",
    "Juan Camilo Arango\n",
    "### Single Die game "
   ]
  },
  {
   "cell_type": "code",
   "execution_count": 1,
   "metadata": {},
   "outputs": [
    {
     "data": {
      "text/plain": [
       "dice (generic function with 1 method)"
      ]
     },
     "execution_count": 1,
     "metadata": {},
     "output_type": "execute_result"
    }
   ],
   "source": [
    "#funciton for 1 die\n",
    "function dice(n)\n",
    "    count=1\n",
    "    while rand(1:6) != n\n",
    "        count+=1\n",
    "    end\n",
    "    return count\n",
    "end"
   ]
  },
  {
   "cell_type": "code",
   "execution_count": 2,
   "metadata": {},
   "outputs": [
    {
     "data": {
      "text/plain": [
       "throwtimes (generic function with 1 method)"
      ]
     },
     "execution_count": 2,
     "metadata": {},
     "output_type": "execute_result"
    }
   ],
   "source": [
    "#function for times to run die function\n",
    "function throwtimes(n)\n",
    "    results=[dice(n) for i in 1:1000000]\n",
    "    return results\n",
    "end"
   ]
  },
  {
   "cell_type": "code",
   "execution_count": 3,
   "metadata": {},
   "outputs": [
    {
     "data": {
      "text/plain": [
       "distri (generic function with 1 method)"
      ]
     },
     "execution_count": 3,
     "metadata": {},
     "output_type": "execute_result"
    }
   ],
   "source": [
    " #function for distribution\n",
    "function distri(results)\n",
    "    max=maximum(results)\n",
    "    times=zeros(Int64,max)\n",
    "    for i in results\n",
    "        times[i]+=1\n",
    "    end\n",
    "   for (i,x) in enumerate(times)\n",
    "        if x>0\n",
    "            println(i,\" \",x)\n",
    "        end\n",
    "    end\n",
    "end"
   ]
  },
  {
   "cell_type": "code",
   "execution_count": 4,
   "metadata": {},
   "outputs": [
    {
     "data": {
      "text/plain": [
       "most (generic function with 1 method)"
      ]
     },
     "execution_count": 4,
     "metadata": {},
     "output_type": "execute_result"
    }
   ],
   "source": [
    "#function for finding most likely # of throws\n",
    "function most(results)\n",
    "    max=maximum(results)\n",
    "    times=zeros(Int64,max)\n",
    "    for i in results\n",
    "        times[i]+=1\n",
    "    end\n",
    "    max=maximum(times)\n",
    "    count=1\n",
    "    num=times[1]\n",
    "    while num != max\n",
    "        count+=1\n",
    "        num=times[count]\n",
    "    end\n",
    "    println(\"Your are most likely to get the number in \",count,\" throws.\")\n",
    "end"
   ]
  },
  {
   "cell_type": "code",
   "execution_count": 5,
   "metadata": {},
   "outputs": [
    {
     "data": {
      "text/plain": [
       "avg (generic function with 1 method)"
      ]
     },
     "execution_count": 5,
     "metadata": {},
     "output_type": "execute_result"
    }
   ],
   "source": [
    "function avg(results)\n",
    "    average=0\n",
    "    for i=1:1000000\n",
    "        average+=results[i]\n",
    "    end\n",
    "    average =average/1000000\n",
    "    println(\"The average is \",average)\n",
    "\n",
    "end"
   ]
  },
  {
   "cell_type": "code",
   "execution_count": 18,
   "metadata": {},
   "outputs": [
    {
     "data": {
      "text/plain": [
       "plotprob (generic function with 1 method)"
      ]
     },
     "execution_count": 18,
     "metadata": {},
     "output_type": "execute_result"
    }
   ],
   "source": [
    "function plotprob(results)\n",
    "    max=maximum(results)\n",
    "    times=zeros(Int64,max)\n",
    "    for i in results\n",
    "        times[i]+=1\n",
    "    end\n",
    "    x=1:max\n",
    "    y=(times/1000000)\n",
    "    plot(x, y, color=\"blue\", linewidth=3.0,label=\"Throws\")\n",
    "    title!(\"Simulation\")\n",
    "    xlabel!(\"Throws\")\n",
    "    ylabel!(\"Probabibility\")\n",
    "end"
   ]
  },
  {
   "cell_type": "code",
   "execution_count": 15,
   "metadata": {},
   "outputs": [
    {
     "data": {
      "text/plain": [
       "Plots.PlotlyBackend()"
      ]
     },
     "execution_count": 15,
     "metadata": {},
     "output_type": "execute_result"
    }
   ],
   "source": [
    "using Plots\n",
    "plotly() "
   ]
  },
  {
   "cell_type": "code",
   "execution_count": 33,
   "metadata": {},
   "outputs": [
    {
     "data": {
      "text/plain": [
       "finalrun (generic function with 1 method)"
      ]
     },
     "execution_count": 33,
     "metadata": {},
     "output_type": "execute_result"
    }
   ],
   "source": [
    "function finalrun(n)\n",
    "    println(\"Simulation for 1 die game\\nDISTRIBUTION\")\n",
    "    results=throwtimes(n)\n",
    "    distri(results)\n",
    "    avg(results)\n",
    "    most(results)\n",
    "    plotprob(results)\n",
    "end"
   ]
  },
  {
   "cell_type": "code",
   "execution_count": 19,
   "metadata": {},
   "outputs": [
    {
     "name": "stdout",
     "output_type": "stream",
     "text": [
      "Simulation for 1 die game/n DISTRIBUTION\n",
      "1 166494\n",
      "2 138984\n",
      "3 116572\n",
      "4 96262\n",
      "5 80518\n",
      "6 67380\n",
      "7 55850\n",
      "8 46390\n",
      "9 38487\n",
      "10 32108\n",
      "11 26723\n",
      "12 22516\n",
      "13 18541\n",
      "14 15463\n",
      "15 12908\n",
      "16 10818\n",
      "17 9017\n",
      "18 7371\n",
      "19 6203\n",
      "20 5127\n",
      "21 4447\n",
      "22 3685\n",
      "23 2973\n",
      "24 2572\n",
      "25 2048\n",
      "26 1829\n",
      "27 1496\n",
      "28 1211\n",
      "29 1023\n",
      "30 810\n",
      "31 738\n",
      "32 539\n",
      "33 471\n",
      "34 415\n",
      "35 321\n",
      "36 271\n",
      "37 236\n",
      "38 193\n",
      "39 160\n",
      "40 139\n",
      "41 120\n",
      "42 102\n",
      "43 80\n",
      "44 69\n",
      "45 46\n",
      "46 42\n",
      "47 40\n",
      "48 41\n",
      "49 29\n",
      "50 22\n",
      "51 20\n",
      "52 16\n",
      "53 7\n",
      "54 11\n",
      "55 9\n",
      "56 5\n",
      "57 4\n",
      "58 4\n",
      "59 7\n",
      "60 2\n",
      "61 4\n",
      "62 3\n",
      "63 1\n",
      "64 1\n",
      "65 1\n",
      "68 1\n",
      "69 2\n",
      "72 1\n",
      "76 1\n",
      "The average is 5.992194\n",
      "Your are most likely to get the number in 1 throws.\n"
     ]
    },
    {
     "data": {
      "text/html": [
       "<script src=\"file:///home/jrun/.julia/v0.6/Plots/src/backends/../../deps/plotly-latest.min.js\"></script>    <div id=\"486133a9-5a8b-4340-838d-19630505c23a\" style=\"width:600px;height:400px;\"></div>\n",
       "    <script>\n",
       "    PLOT = document.getElementById('486133a9-5a8b-4340-838d-19630505c23a');\n",
       "    Plotly.plot(PLOT, [{\"showlegend\":true,\"mode\":\"lines\",\"xaxis\":\"x\",\"colorbar\":{\"title\":\"\"},\"line\":{\"color\":\"rgba(0, 0, 255, 1.000)\",\"shape\":\"linear\",\"dash\":\"solid\",\"width\":3.0},\"y\":[0.166494,0.138984,0.116572,0.096262,0.080518,0.06738,0.05585,0.04639,0.038487,0.032108,0.026723,0.022516,0.018541,0.015463,0.012908,0.010818,0.009017,0.007371,0.006203,0.005127,0.004447,0.003685,0.002973,0.002572,0.002048,0.001829,0.001496,0.001211,0.001023,0.00081,0.000738,0.000539,0.000471,0.000415,0.000321,0.000271,0.000236,0.000193,0.00016,0.000139,0.00012,0.000102,8.0e-5,6.9e-5,4.6e-5,4.2e-5,4.0e-5,4.1e-5,2.9e-5,2.2e-5,2.0e-5,1.6e-5,7.0e-6,1.1e-5,9.0e-6,5.0e-6,4.0e-6,4.0e-6,7.0e-6,2.0e-6,4.0e-6,3.0e-6,1.0e-6,1.0e-6,1.0e-6,0.0,0.0,1.0e-6,2.0e-6,0.0,0.0,1.0e-6,0.0,0.0,0.0,1.0e-6],\"type\":\"scatter\",\"name\":\"Throws\",\"yaxis\":\"y\",\"x\":[1,2,3,4,5,6,7,8,9,10,11,12,13,14,15,16,17,18,19,20,21,22,23,24,25,26,27,28,29,30,31,32,33,34,35,36,37,38,39,40,41,42,43,44,45,46,47,48,49,50,51,52,53,54,55,56,57,58,59,60,61,62,63,64,65,66,67,68,69,70,71,72,73,74,75,76]}], {\"showlegend\":true,\"xaxis\":{\"showticklabels\":true,\"gridwidth\":0.5,\"tickvals\":[10.0,20.0,30.0,40.0,50.0,60.0,70.0],\"visible\":true,\"ticks\":\"inside\",\"range\":[1.0,76.0],\"domain\":[0.09128390201224845,0.9934383202099738],\"tickmode\":\"array\",\"linecolor\":\"rgba(0, 0, 0, 1.000)\",\"showgrid\":true,\"title\":\"Throws\",\"mirror\":false,\"tickangle\":0,\"showline\":true,\"gridcolor\":\"rgba(0, 0, 0, 0.100)\",\"titlefont\":{\"color\":\"rgba(0, 0, 0, 1.000)\",\"family\":\"sans-serif\",\"size\":15},\"tickcolor\":\"rgb(0, 0, 0)\",\"ticktext\":[\"10\",\"20\",\"30\",\"40\",\"50\",\"60\",\"70\"],\"zeroline\":false,\"type\":\"-\",\"tickfont\":{\"color\":\"rgba(0, 0, 0, 1.000)\",\"family\":\"sans-serif\",\"size\":11},\"zerolinecolor\":\"rgba(0, 0, 0, 1.000)\",\"anchor\":\"y\"},\"paper_bgcolor\":\"rgba(255, 255, 255, 1.000)\",\"annotations\":[{\"yanchor\":\"top\",\"xanchor\":\"center\",\"rotation\":-0.0,\"y\":1.0,\"font\":{\"color\":\"rgba(0, 0, 0, 1.000)\",\"family\":\"sans-serif\",\"size\":20},\"yref\":\"paper\",\"showarrow\":false,\"text\":\"Simulation\",\"xref\":\"paper\",\"x\":0.5423611111111111}],\"height\":400,\"margin\":{\"l\":0,\"b\":20,\"r\":0,\"t\":20},\"plot_bgcolor\":\"rgba(255, 255, 255, 1.000)\",\"yaxis\":{\"showticklabels\":true,\"gridwidth\":0.5,\"tickvals\":[0.0,0.05,0.1,0.15000000000000002],\"visible\":true,\"ticks\":\"inside\",\"range\":[0.0,0.166494],\"domain\":[0.07581474190726165,0.9415463692038496],\"tickmode\":\"array\",\"linecolor\":\"rgba(0, 0, 0, 1.000)\",\"showgrid\":true,\"title\":\"Probabibility\",\"mirror\":false,\"tickangle\":0,\"showline\":true,\"gridcolor\":\"rgba(0, 0, 0, 0.100)\",\"titlefont\":{\"color\":\"rgba(0, 0, 0, 1.000)\",\"family\":\"sans-serif\",\"size\":15},\"tickcolor\":\"rgb(0, 0, 0)\",\"ticktext\":[\"0.00\",\"0.05\",\"0.10\",\"0.15\"],\"zeroline\":false,\"type\":\"-\",\"tickfont\":{\"color\":\"rgba(0, 0, 0, 1.000)\",\"family\":\"sans-serif\",\"size\":11},\"zerolinecolor\":\"rgba(0, 0, 0, 1.000)\",\"anchor\":\"x\"},\"legend\":{\"bordercolor\":\"rgba(0, 0, 0, 1.000)\",\"bgcolor\":\"rgba(255, 255, 255, 1.000)\",\"font\":{\"color\":\"rgba(0, 0, 0, 1.000)\",\"family\":\"sans-serif\",\"size\":11},\"y\":1.0,\"x\":1.0},\"width\":600});\n",
       "    </script>\n"
      ]
     },
     "execution_count": 19,
     "metadata": {},
     "output_type": "execute_result"
    }
   ],
   "source": [
    "finalrun(1)"
   ]
  },
  {
   "cell_type": "markdown",
   "metadata": {},
   "source": [
    "### Tenzi Simulation"
   ]
  },
  {
   "cell_type": "code",
   "execution_count": 21,
   "metadata": {},
   "outputs": [
    {
     "data": {
      "text/plain": [
       "onethrow (generic function with 1 method)"
      ]
     },
     "execution_count": 21,
     "metadata": {},
     "output_type": "execute_result"
    }
   ],
   "source": [
    "#one throw and counts how many are the same \n",
    "function onethrow(dices,n)\n",
    "    same=0\n",
    "    for i=1:dices\n",
    "        x=rand(1:6)\n",
    "        if x==n\n",
    "            same+=1\n",
    "        end\n",
    "    end\n",
    "    return same\n",
    "end "
   ]
  },
  {
   "cell_type": "code",
   "execution_count": 23,
   "metadata": {},
   "outputs": [
    {
     "data": {
      "text/plain": [
       "tenzi (generic function with 1 method)"
      ]
     },
     "execution_count": 23,
     "metadata": {},
     "output_type": "execute_result"
    }
   ],
   "source": [
    "#plays a complete game \n",
    "function tenzi(n)\n",
    "    dices=10\n",
    "    count=0\n",
    "    dices=(dices-onethrow(dices,n))\n",
    "    count+=1\n",
    "    while dices!=0\n",
    "         x=onethrow(dices,n)\n",
    "        dices-=x\n",
    "        count+=1\n",
    "    end\n",
    "    return count\n",
    "end"
   ]
  },
  {
   "cell_type": "code",
   "execution_count": 24,
   "metadata": {},
   "outputs": [
    {
     "data": {
      "text/plain": [
       "numberOfGames (generic function with 1 method)"
      ]
     },
     "execution_count": 24,
     "metadata": {},
     "output_type": "execute_result"
    }
   ],
   "source": [
    "#how many games ot run\n",
    "function numberOfGames(n)\n",
    "    results=[tenzi(n) for i in 1:1000000]\n",
    "    return results\n",
    "end"
   ]
  },
  {
   "cell_type": "code",
   "execution_count": 25,
   "metadata": {},
   "outputs": [
    {
     "data": {
      "text/plain": [
       "distri (generic function with 1 method)"
      ]
     },
     "execution_count": 25,
     "metadata": {},
     "output_type": "execute_result"
    }
   ],
   "source": [
    "#function for distribution\n",
    "function distri(results)\n",
    "    max=maximum(results)\n",
    "    times=zeros(Int64,max)\n",
    "    for i in results\n",
    "        times[i]+=1\n",
    "    end\n",
    "   for (i,x) in enumerate(times)\n",
    "        if x>0\n",
    "            println(i,\" \",x)\n",
    "        end\n",
    "    end\n",
    "    return times\n",
    "end"
   ]
  },
  {
   "cell_type": "code",
   "execution_count": 26,
   "metadata": {},
   "outputs": [
    {
     "data": {
      "text/plain": [
       "most (generic function with 1 method)"
      ]
     },
     "execution_count": 26,
     "metadata": {},
     "output_type": "execute_result"
    }
   ],
   "source": [
    "#function for finding most likely # of throws\n",
    "function most(times)\n",
    "    max=maximum(times)\n",
    "    count=1\n",
    "    num=times[1]\n",
    "    while num != max\n",
    "        count+=1\n",
    "        num=times[count]\n",
    "    end\n",
    "    println(\"Your are most likely finish the game in \",count,\" throws.\")\n",
    "end"
   ]
  },
  {
   "cell_type": "code",
   "execution_count": 27,
   "metadata": {},
   "outputs": [
    {
     "data": {
      "text/plain": [
       "avg (generic function with 1 method)"
      ]
     },
     "execution_count": 27,
     "metadata": {},
     "output_type": "execute_result"
    }
   ],
   "source": [
    "function avg(results)\n",
    "    average=0\n",
    "    for i=1:1000000\n",
    "        average+=results[i]\n",
    "    end\n",
    "    average =average/1000000\n",
    "    println(\"The average is \",average)\n",
    "\n",
    "end"
   ]
  },
  {
   "cell_type": "code",
   "execution_count": 28,
   "metadata": {},
   "outputs": [
    {
     "data": {
      "text/plain": [
       "plotprob (generic function with 2 methods)"
      ]
     },
     "execution_count": 28,
     "metadata": {},
     "output_type": "execute_result"
    }
   ],
   "source": [
    "function plotprob(results,times)\n",
    "    max=maximum(results)\n",
    "    times=zeros(Int64,max)\n",
    "    for i in results\n",
    "        times[i]+=1\n",
    "    end\n",
    "    x=1:max\n",
    "    y=(times/1000000)\n",
    "    plot(x, y, color=\"blue\", linewidth=3.0,label=\"Throws\")\n",
    "    xlabel!(\"Throws\")\n",
    "    ylabel!(\"Probabibility\")\n",
    "  \n",
    "end"
   ]
  },
  {
   "cell_type": "code",
   "execution_count": 31,
   "metadata": {},
   "outputs": [
    {
     "data": {
      "text/plain": [
       "tenzigame (generic function with 1 method)"
      ]
     },
     "execution_count": 31,
     "metadata": {},
     "output_type": "execute_result"
    }
   ],
   "source": [
    "function tenzigame(n)\n",
    "    println(\"Simulation for Tnzi game \\nDISTRIBUTION\")\n",
    "    results=numberOfGames(n)\n",
    "    times=distri(results);\n",
    "    avg(results)\n",
    "    most(times)\n",
    "    plotprob(results,times)\n",
    "end"
   ]
  },
  {
   "cell_type": "code",
   "execution_count": 32,
   "metadata": {},
   "outputs": [
    {
     "name": "stdout",
     "output_type": "stream",
     "text": [
      "Simulation for Tnzi game \n",
      " DISTRIBUTION\n",
      "2 6\n",
      "3 182\n",
      "4 1195\n",
      "5 4422\n",
      "6 10935\n",
      "7 20956\n",
      "8 33066\n",
      "9 45398\n",
      "10 55484\n",
      "11 63731\n",
      "12 68709\n",
      "13 70547\n",
      "14 69580\n",
      "15 66896\n",
      "16 62015\n",
      "17 56896\n",
      "18 51457\n",
      "19 45904\n",
      "20 40301\n",
      "21 34834\n",
      "22 30295\n",
      "23 25854\n",
      "24 22340\n",
      "25 18960\n",
      "26 16028\n",
      "27 13399\n",
      "28 11535\n",
      "29 9568\n",
      "30 8095\n",
      "31 6759\n",
      "32 5840\n",
      "33 4832\n",
      "34 3997\n",
      "35 3255\n",
      "36 2716\n",
      "37 2309\n",
      "38 1884\n",
      "39 1637\n",
      "40 1295\n",
      "41 1133\n",
      "42 940\n",
      "43 797\n",
      "44 674\n",
      "45 604\n",
      "46 428\n",
      "47 380\n",
      "48 331\n",
      "49 259\n",
      "50 227\n",
      "51 199\n",
      "52 135\n",
      "53 129\n",
      "54 95\n",
      "55 94\n",
      "56 90\n",
      "57 76\n",
      "58 47\n",
      "59 52\n",
      "60 18\n",
      "61 35\n",
      "62 15\n",
      "63 18\n",
      "64 16\n",
      "65 19\n",
      "66 14\n",
      "67 12\n",
      "68 11\n",
      "69 5\n",
      "70 8\n",
      "71 3\n",
      "72 6\n",
      "73 3\n",
      "74 3\n",
      "75 4\n",
      "76 3\n",
      "78 1\n",
      "79 1\n",
      "80 1\n",
      "81 1\n",
      "82 1\n",
      "The average is 16.569477\n",
      "Your are most likely finish the game in 13 throws.\n"
     ]
    },
    {
     "data": {
      "text/html": [
       "<script src=\"file:///home/jrun/.julia/v0.6/Plots/src/backends/../../deps/plotly-latest.min.js\"></script>    <div id=\"b1c2f2b9-ee5f-47d1-af43-d8a5f693072c\" style=\"width:600px;height:400px;\"></div>\n",
       "    <script>\n",
       "    PLOT = document.getElementById('b1c2f2b9-ee5f-47d1-af43-d8a5f693072c');\n",
       "    Plotly.plot(PLOT, [{\"showlegend\":true,\"mode\":\"lines\",\"xaxis\":\"x\",\"colorbar\":{\"title\":\"\"},\"line\":{\"color\":\"rgba(0, 0, 255, 1.000)\",\"shape\":\"linear\",\"dash\":\"solid\",\"width\":3.0},\"y\":[0.0,6.0e-6,0.000182,0.001195,0.004422,0.010935,0.020956,0.033066,0.045398,0.055484,0.063731,0.068709,0.070547,0.06958,0.066896,0.062015,0.056896,0.051457,0.045904,0.040301,0.034834,0.030295,0.025854,0.02234,0.01896,0.016028,0.013399,0.011535,0.009568,0.008095,0.006759,0.00584,0.004832,0.003997,0.003255,0.002716,0.002309,0.001884,0.001637,0.001295,0.001133,0.00094,0.000797,0.000674,0.000604,0.000428,0.00038,0.000331,0.000259,0.000227,0.000199,0.000135,0.000129,9.5e-5,9.4e-5,9.0e-5,7.6e-5,4.7e-5,5.2e-5,1.8e-5,3.5e-5,1.5e-5,1.8e-5,1.6e-5,1.9e-5,1.4e-5,1.2e-5,1.1e-5,5.0e-6,8.0e-6,3.0e-6,6.0e-6,3.0e-6,3.0e-6,4.0e-6,3.0e-6,0.0,1.0e-6,1.0e-6,1.0e-6,1.0e-6,1.0e-6],\"type\":\"scatter\",\"name\":\"Throws\",\"yaxis\":\"y\",\"x\":[1,2,3,4,5,6,7,8,9,10,11,12,13,14,15,16,17,18,19,20,21,22,23,24,25,26,27,28,29,30,31,32,33,34,35,36,37,38,39,40,41,42,43,44,45,46,47,48,49,50,51,52,53,54,55,56,57,58,59,60,61,62,63,64,65,66,67,68,69,70,71,72,73,74,75,76,77,78,79,80,81,82]}], {\"showlegend\":true,\"xaxis\":{\"showticklabels\":true,\"gridwidth\":0.5,\"tickvals\":[20.0,40.0,60.0,80.0],\"visible\":true,\"ticks\":\"inside\",\"range\":[1.0,82.0],\"domain\":[0.09128390201224845,0.9934383202099738],\"tickmode\":\"array\",\"linecolor\":\"rgba(0, 0, 0, 1.000)\",\"showgrid\":true,\"title\":\"Throws\",\"mirror\":false,\"tickangle\":0,\"showline\":true,\"gridcolor\":\"rgba(0, 0, 0, 0.100)\",\"titlefont\":{\"color\":\"rgba(0, 0, 0, 1.000)\",\"family\":\"sans-serif\",\"size\":15},\"tickcolor\":\"rgb(0, 0, 0)\",\"ticktext\":[\"20\",\"40\",\"60\",\"80\"],\"zeroline\":false,\"type\":\"-\",\"tickfont\":{\"color\":\"rgba(0, 0, 0, 1.000)\",\"family\":\"sans-serif\",\"size\":11},\"zerolinecolor\":\"rgba(0, 0, 0, 1.000)\",\"anchor\":\"y\"},\"paper_bgcolor\":\"rgba(255, 255, 255, 1.000)\",\"annotations\":[],\"height\":400,\"margin\":{\"l\":0,\"b\":20,\"r\":0,\"t\":20},\"plot_bgcolor\":\"rgba(255, 255, 255, 1.000)\",\"yaxis\":{\"showticklabels\":true,\"gridwidth\":0.5,\"tickvals\":[0.0,0.02,0.04,0.06],\"visible\":true,\"ticks\":\"inside\",\"range\":[0.0,0.070547],\"domain\":[0.07581474190726165,0.9901574803149606],\"tickmode\":\"array\",\"linecolor\":\"rgba(0, 0, 0, 1.000)\",\"showgrid\":true,\"title\":\"Probabibility\",\"mirror\":false,\"tickangle\":0,\"showline\":true,\"gridcolor\":\"rgba(0, 0, 0, 0.100)\",\"titlefont\":{\"color\":\"rgba(0, 0, 0, 1.000)\",\"family\":\"sans-serif\",\"size\":15},\"tickcolor\":\"rgb(0, 0, 0)\",\"ticktext\":[\"0.00\",\"0.02\",\"0.04\",\"0.06\"],\"zeroline\":false,\"type\":\"-\",\"tickfont\":{\"color\":\"rgba(0, 0, 0, 1.000)\",\"family\":\"sans-serif\",\"size\":11},\"zerolinecolor\":\"rgba(0, 0, 0, 1.000)\",\"anchor\":\"x\"},\"legend\":{\"bordercolor\":\"rgba(0, 0, 0, 1.000)\",\"bgcolor\":\"rgba(255, 255, 255, 1.000)\",\"font\":{\"color\":\"rgba(0, 0, 0, 1.000)\",\"family\":\"sans-serif\",\"size\":11},\"y\":1.0,\"x\":1.0},\"width\":600});\n",
       "    </script>\n"
      ]
     },
     "execution_count": 32,
     "metadata": {},
     "output_type": "execute_result"
    }
   ],
   "source": [
    "tenzigame(1)"
   ]
  },
  {
   "cell_type": "code",
   "execution_count": null,
   "metadata": {},
   "outputs": [],
   "source": []
  }
 ],
 "metadata": {
  "kernelspec": {
   "display_name": "Julia 0.6.2",
   "language": "julia",
   "name": "julia-0.6"
  },
  "language_info": {
   "file_extension": ".jl",
   "mimetype": "application/julia",
   "name": "julia",
   "version": "0.6.2"
  }
 },
 "nbformat": 4,
 "nbformat_minor": 2
}
